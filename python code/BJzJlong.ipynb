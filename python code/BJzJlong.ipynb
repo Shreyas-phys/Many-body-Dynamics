{
 "cells": [
  {
   "cell_type": "code",
   "execution_count": null,
   "id": "9b7da094",
   "metadata": {},
   "outputs": [],
   "source": [
    "!pip install qutip \n",
    "# Install QuTiP if not already installed"
   ]
  },
  {
   "cell_type": "code",
   "execution_count": null,
   "id": "d776d430",
   "metadata": {},
   "outputs": [],
   "source": [
    "import numpy as np\n",
    "import qutip as qt\n",
    "\n",
    "# Define Pauli matrices\n",
    "sx = qt.sigmax()\n",
    "sz = qt.sigmaz()\n",
    "\n",
    "# Define Hamiltonian: H = 0.5 * sx + 1.0 * sz\n",
    "H = 0.5 * sx + 1.0 * sz\n",
    "\n",
    "# Initial state: |0>\n",
    "psi0 = qt.basis(2, 0)\n",
    "\n",
    "# Time points\n",
    "tlist = np.linspace(0, 10, 100)\n",
    "\n",
    "# Solve Schrödinger equation\n",
    "result = qt.sesolve(H, psi0, tlist, [sz])\n",
    "\n",
    "# Expectation value of sz\n",
    "import matplotlib.pyplot as plt\n",
    "plt.plot(tlist, result.expect[0])\n",
    "plt.xlabel('Time')\n",
    "plt.ylabel('<sigmaz>')\n",
    "plt.title('Time evolution of <sigmaz>')\n",
    "plt.show()\n"
   ]
  }
 ],
 "metadata": {
  "kernelspec": {
   "display_name": "base",
   "language": "python",
   "name": "python3"
  },
  "language_info": {
   "name": "python",
   "version": "3.12.7"
  }
 },
 "nbformat": 4,
 "nbformat_minor": 5
}
